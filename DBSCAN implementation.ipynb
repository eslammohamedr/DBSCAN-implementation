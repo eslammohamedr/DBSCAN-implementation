{
 "cells": [
  {
   "cell_type": "code",
   "execution_count": 210,
   "metadata": {},
   "outputs": [],
   "source": [
    "import matplotlib.pyplot as plt \n",
    "import seaborn as sns \n",
    "import numpy as np \n",
    "import pandas as pd \n",
    "import math\n",
    "import warnings\n",
    "warnings.filterwarnings('ignore') "
   ]
  },
  {
   "cell_type": "code",
   "execution_count": 211,
   "metadata": {},
   "outputs": [
    {
     "data": {
      "image/png": "[encoded data removed]",
      "text/plain": [
       "<Figure size 432x288 with 1 Axes>"
      ]
     },
     "metadata": {
      "needs_background": "light"
     },
     "output_type": "display_data"
    }
   ],
   "source": [
    "x = [1,3,2.5,1.5,3,2.8,2.5,1.2,1,1,1,5,4]\n",
    "y = [2,4,4,2.5,5,4.5,4.5,2.5,3,5,2.5,6,3]\n",
    "plt.scatter(x,y)\n",
    "plt.grid()\n",
    "plt.show()"
   ]
  },
  {
   "cell_type": "code",
   "execution_count": 212,
   "metadata": {},
   "outputs": [
    {
     "data": {
      "text/plain": [
       "array([[1. , 2. ],\n",
       "       [3. , 4. ],\n",
       "       [2.5, 4. ],\n",
       "       [1.5, 2.5],\n",
       "       [3. , 5. ],\n",
       "       [2.8, 4.5],\n",
       "       [2.5, 4.5],\n",
       "       [1.2, 2.5],\n",
       "       [1. , 3. ],\n",
       "       [1. , 5. ],\n",
       "       [1. , 2.5],\n",
       "       [5. , 6. ],\n",
       "       [4. , 3. ]])"
      ]
     },
     "execution_count": 212,
     "metadata": {},
     "output_type": "execute_result"
    }
   ],
   "source": [
    "arr=np.array([x,y])\n",
    "arr=np.transpose(arr)\n",
    "arr"
   ]
  },
  {
   "cell_type": "code",
   "execution_count": 213,
   "metadata": {},
   "outputs": [],
   "source": [
    "def get_length(point,arr):\n",
    "    lengths=[]\n",
    "    for i in range(len(arr)):\n",
    "        L=math.dist(point,arr[i])\n",
    "        lengths.append(L)\n",
    "    return lengths\n",
    "        \n",
    "        "
   ]
  },
  {
   "cell_type": "code",
   "execution_count": 214,
   "metadata": {},
   "outputs": [],
   "source": [
    "def get_neighbours(point,lengths,eps):\n",
    "    neighbours=[]\n",
    "    for i in range(len(lengths)):\n",
    "        if (lengths[i]<=eps) and (lengths[i]!=0):\n",
    "            neighbours.append(arr[i])\n",
    "\n",
    "    return np.array(neighbours)\n",
    "            \n",
    "            \n",
    "        \n",
    "    "
   ]
  },
  {
   "cell_type": "code",
   "execution_count": 215,
   "metadata": {},
   "outputs": [],
   "source": [
    "def get_all_neighours(arr,eps):\n",
    "    all_neighbours=[]\n",
    "    for i in range(len(arr)):\n",
    "        l=get_length(arr[i],arr)\n",
    "        n=get_neighbours(arr[i],l,eps)\n",
    "        all_neighbours.append(n)\n",
    "    return np.array(all_neighbours)\n",
    "        \n",
    "    "
   ]
  },
  {
   "cell_type": "code",
   "execution_count": 216,
   "metadata": {},
   "outputs": [],
   "source": [
    "n=get_all_neighours(arr,.6)"
   ]
  },
  {
   "cell_type": "code",
   "execution_count": 217,
   "metadata": {},
   "outputs": [
    {
     "data": {
      "text/plain": [
       "array([array([[1.2, 2.5],\n",
       "       [1. , 2.5]]),\n",
       "       array([[2.5, 4. ],\n",
       "       [2.8, 4.5]]),\n",
       "       array([[3. , 4. ],\n",
       "       [2.8, 4.5],\n",
       "       [2.5, 4.5]]),\n",
       "       array([[1.2, 2.5],\n",
       "       [1. , 2.5]]), array([[2.8, 4.5]]),\n",
       "       array([[3. , 4. ],\n",
       "       [2.5, 4. ],\n",
       "       [3. , 5. ],\n",
       "       [2.5, 4.5]]),\n",
       "       array([[2.5, 4. ],\n",
       "       [2.8, 4.5]]),\n",
       "       array([[1. , 2. ],\n",
       "       [1.5, 2.5],\n",
       "       [1. , 3. ],\n",
       "       [1. , 2.5]]),\n",
       "       array([[1.2, 2.5],\n",
       "       [1. , 2.5]]), array([], dtype=float64),\n",
       "       array([[1. , 2. ],\n",
       "       [1.5, 2.5],\n",
       "       [1.2, 2.5],\n",
       "       [1. , 3. ]]),\n",
       "       array([], dtype=float64), array([], dtype=float64)], dtype=object)"
      ]
     },
     "execution_count": 217,
     "metadata": {},
     "output_type": "execute_result"
    }
   ],
   "source": [
    "n"
   ]
  },
  {
   "cell_type": "code",
   "execution_count": 218,
   "metadata": {},
   "outputs": [
    {
     "data": {
      "text/plain": [
       "array([[1.2, 2.5],\n",
       "       [1. , 2.5]])"
      ]
     },
     "execution_count": 218,
     "metadata": {},
     "output_type": "execute_result"
    }
   ],
   "source": [
    "n[0]"
   ]
  },
  {
   "cell_type": "code",
   "execution_count": 219,
   "metadata": {},
   "outputs": [],
   "source": [
    "def DBS(arr,eps,min_p):\n",
    "    neighbours = get_all_neighours(arr,eps)\n",
    "    clusters=[]\n",
    "    borders=[]\n",
    "    index_cores=[]\n",
    "    # core point\n",
    "    cores=[]\n",
    "    for i in range(len(neighbours)):\n",
    "        if len(neighbours[i]) >= min_p:          # check the minimum points \n",
    "            cores.append(arr[i])                 # add the point to the cores list  \n",
    "            index_cores.append(i)                # add the index of the core point \n",
    "            clusters.append(neighbours[i])\n",
    "    \n",
    "    \n",
    "    taken_index=[]\n",
    "    for c in range(len(cores)):\n",
    "        for n in range(len(neighbours)):\n",
    "            for neigh in neighbours[n]:\n",
    "                if (n in index_cores):          # check if the index of the point in index of cores or not\n",
    "                    break\n",
    "                if (n in taken_index):          # check if the index of the point in index of taken points or not\n",
    "                    break\n",
    "                if (cores[c]==neigh).all():\n",
    "                    clusters[c]=list(clusters[c])\n",
    "                    clusters[c].append(arr[n])       # add the point as a border point to the class\n",
    "                    clusters[c]=np.array(clusters[c])\n",
    "                    taken_index.append(n)            # add the point to taken points list  \n",
    "                    break\n",
    "    outliers=[]\n",
    "    for i in range(len(arr)):\n",
    "        if i not in taken_index and i not in index_cores:\n",
    "\n",
    "            outliers.append(arr[i])                  # add the outliers\n",
    "            \n",
    "            \n",
    "\n",
    "            \n",
    "    for i in range(len(clusters)-1):           # merge the clusters if there's a common point between them\n",
    "        flag=0\n",
    "        for c0 in clusters[i]:\n",
    "            if flag!=0:                      # flag to get out of the two loops\n",
    "                flag=1\n",
    "                break\n",
    "            for c1 in clusters[i+1]:\n",
    "                if (c0==c1).all():\n",
    "                    c=np.vstack((clusters[i],clusters[i+1]))    # merge two clusters\n",
    "                    c=np.unique(c,axis=0)                       # take the unique\n",
    "                    clusters=np.delete(clusters,i+1,axis=0)     # delete the second cluster\n",
    "                    clusters=np.delete(clusters,i,axis=0)       # delete the first cluster\n",
    "                    clusters=list(clusters)\n",
    "                    clusters.append(c)                          # add the new cluster\n",
    "                    clusters=np.array(clusters)\n",
    "                    flag=1\n",
    "                    break  \n",
    "        # add the core points to the clusters\n",
    "        clusters[i]=list(clusters[i])\n",
    "        clusters[i].append(cores[i])\n",
    "        clusters[i]=np.array(clusters[i])   \n",
    "        \n",
    "        \n",
    "    # remove repeated element\n",
    "    for i in range(len(clusters)):\n",
    "        clusters[i]=np.unique(clusters[i],axis=0)\n",
    "    \n",
    "\n",
    "    \n",
    "    \n",
    "\n",
    "\n",
    "\n",
    "            \n",
    "\n",
    "    return clusters , outliers\n",
    "            \n",
    "    "
   ]
  },
  {
   "cell_type": "code",
   "execution_count": 220,
   "metadata": {},
   "outputs": [
    {
     "data": {
      "text/plain": [
       "array([array([[2.5, 4. ],\n",
       "       [2.5, 4.5],\n",
       "       [2.8, 4.5],\n",
       "       [3. , 4. ],\n",
       "       [3. , 5. ]]),\n",
       "       array([[1. , 2. ],\n",
       "       [1. , 2.5],\n",
       "       [1. , 3. ],\n",
       "       [1.2, 2.5],\n",
       "       [1.5, 2.5]])], dtype=object)"
      ]
     },
     "execution_count": 220,
     "metadata": {},
     "output_type": "execute_result"
    }
   ],
   "source": [
    "clusters,outliers=DBS(arr,.6,4)\n",
    "clusters"
   ]
  },
  {
   "cell_type": "code",
   "execution_count": 221,
   "metadata": {},
   "outputs": [
    {
     "data": {
      "text/plain": [
       "[array([1., 5.]), array([5., 6.]), array([4., 3.])]"
      ]
     },
     "execution_count": 221,
     "metadata": {},
     "output_type": "execute_result"
    }
   ],
   "source": [
    "outliers"
   ]
  },
  {
   "cell_type": "code",
   "execution_count": 238,
   "metadata": {},
   "outputs": [
    {
     "data": {
      "image/png": "[encoded data removed]",
      "text/plain": [
       "<Figure size 432x288 with 2 Axes>"
      ]
     },
     "metadata": {
      "needs_background": "light"
     },
     "output_type": "display_data"
    }
   ],
   "source": [
    "fig, (ax1, ax2) = plt.subplots(1, 2)\n",
    "ax1.scatter([i[0] for i in clusters[0]], [i[1] for i in clusters[0]],c='b')\n",
    "ax1.scatter([i[0] for i in clusters[1]], [i[1] for i in clusters[1]],c='g')\n",
    "ax1.scatter([i[0] for i in outliers], [i[1] for i in outliers],c='r')\n",
    "ax1.legend([\"Class1\",\"Class2\",\"Outliers\"],loc='lower right')\n",
    "ax2.scatter(x,y)\n",
    "ax1.grid()\n",
    "ax2.grid()\n",
    "plt.show()"
   ]
  },
  {
   "cell_type": "code",
   "execution_count": null,
   "metadata": {},
   "outputs": [],
   "source": []
  },
  {
   "cell_type": "code",
   "execution_count": null,
   "metadata": {},
   "outputs": [],
   "source": []
  },
  {
   "cell_type": "code",
   "execution_count": null,
   "metadata": {},
   "outputs": [],
   "source": []
  },
  {
   "cell_type": "code",
   "execution_count": null,
   "metadata": {},
   "outputs": [],
   "source": []
  },
  {
   "cell_type": "code",
   "execution_count": null,
   "metadata": {},
   "outputs": [],
   "source": []
  },
  {
   "cell_type": "code",
   "execution_count": null,
   "metadata": {},
   "outputs": [],
   "source": []
  },
  {
   "cell_type": "code",
   "execution_count": null,
   "metadata": {},
   "outputs": [],
   "source": []
  },
  {
   "cell_type": "code",
   "execution_count": null,
   "metadata": {},
   "outputs": [],
   "source": []
  },
  {
   "cell_type": "code",
   "execution_count": null,
   "metadata": {},
   "outputs": [],
   "source": []
  },
  {
   "cell_type": "code",
   "execution_count": null,
   "metadata": {},
   "outputs": [],
   "source": []
  },
  {
   "cell_type": "code",
   "execution_count": null,
   "metadata": {},
   "outputs": [],
   "source": []
  },
  {
   "cell_type": "code",
   "execution_count": null,
   "metadata": {},
   "outputs": [],
   "source": []
  }
 ],
 "metadata": {
  "kernelspec": {
   "display_name": "Python 3",
   "language": "python",
   "name": "python3"
  },
  "language_info": {
   "codemirror_mode": {
    "name": "ipython",
    "version": 3
   },
   "file_extension": ".py",
   "mimetype": "text/x-python",
   "name": "python",
   "nbconvert_exporter": "python",
   "pygments_lexer": "ipython3",
   "version": "3.8.5"
  },
  "varInspector": {
   "cols": {
    "lenName": 16,
    "lenType": 16,
    "lenVar": 40
   },
   "kernels_config": {
    "python": {
     "delete_cmd_postfix": "",
     "delete_cmd_prefix": "del ",
     "library": "var_list.py",
     "varRefreshCmd": "print(var_dic_list())"
    },
    "r": {
     "delete_cmd_postfix": ") ",
     "delete_cmd_prefix": "rm(",
     "library": "var_list.r",
     "varRefreshCmd": "cat(var_dic_list()) "
    }
   },
   "types_to_exclude": [
    "module",
    "function",
    "builtin_function_or_method",
    "instance",
    "_Feature"
   ],
   "window_display": false
  }
 },
 "nbformat": 4,
 "nbformat_minor": 4
}
